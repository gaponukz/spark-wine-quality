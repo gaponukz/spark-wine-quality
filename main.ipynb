{
 "cells": [
  {
   "cell_type": "code",
   "execution_count": 11,
   "id": "044693ac",
   "metadata": {},
   "outputs": [],
   "source": [
    "import os\n",
    "\n",
    "os.environ['SPARK_HOME'] = \"/Applications/Spark\"\n",
    "os.environ['SPARK_LOCAL_IP'] = '127.0.0.1'\n",
    "os.environ['PYSPARK_DRIVER_PYTHON'] = 'jupyter'\n",
    "os.environ['PYSPARK_DRIVER_PYTHON_OPTS'] = 'lab'\n",
    "os.environ['PYSPARK_PYTHON'] = 'python'"
   ]
  },
  {
   "cell_type": "code",
   "execution_count": 12,
   "id": "8e008b64-40c1-47c7-8f37-d9df8c391ca0",
   "metadata": {},
   "outputs": [],
   "source": [
    "from pyspark.sql import SparkSession\n",
    "from pyspark.sql.functions import lit"
   ]
  },
  {
   "cell_type": "code",
   "execution_count": 13,
   "id": "138f2487-d2f6-4d83-806d-82da8701eb5b",
   "metadata": {},
   "outputs": [],
   "source": [
    "spark: SparkSession = SparkSession.builder.appName(\"Wine quality\").getOrCreate()"
   ]
  },
  {
   "cell_type": "code",
   "execution_count": 14,
   "id": "3e78faf5-e365-485e-a8f7-881aea440f1f",
   "metadata": {},
   "outputs": [],
   "source": [
    "red_wine_df = spark.read.csv(\"./data/winequality-red.csv\", header=True, inferSchema=True, sep=\";\")\n",
    "white_wine_df = spark.read.csv(\"./data/winequality-white.csv\", header=True, inferSchema=True, sep=\";\")\n",
    "df = red_wine_df.withColumn(\"color\", lit(\"red\")).union(white_wine_df.withColumn(\"color\", lit(\"white\")))\n",
    "df.createOrReplaceTempView(\"wines\")"
   ]
  },
  {
   "cell_type": "code",
   "execution_count": 15,
   "id": "88a44a63",
   "metadata": {},
   "outputs": [
    {
     "data": {
      "text/plain": [
       "{'fixed_acidity': -0.0767432079096202,\n",
       " 'volatile_acidity': -0.26569947761146706,\n",
       " 'citric_acid': 0.08553171718367798,\n",
       " 'residual_sugar': -0.036980484585769774,\n",
       " 'chlorides': -0.2006655004351014,\n",
       " 'free_sulfur_dioxide': 0.055463058616632414,\n",
       " 'total_sulfur_dioxide': -0.04138545385560937,\n",
       " 'density': -0.3058579060694186,\n",
       " 'pH': 0.01950570371443557,\n",
       " 'sulphates': 0.03848544587651391,\n",
       " 'alcohol': 0.4443185200076535}"
      ]
     },
     "execution_count": 15,
     "metadata": {},
     "output_type": "execute_result"
    }
   ],
   "source": [
    "numeric_cols = [col for col in df.columns if col not in (\"color\", \"quality\")]\n",
    "\n",
    "{\n",
    "   col_name: df.stat.corr(col_name, \"quality\")\n",
    "   for col_name in numeric_cols\n",
    "}\n",
    "\n"
   ]
  },
  {
   "cell_type": "code",
   "execution_count": 16,
   "id": "969238db",
   "metadata": {},
   "outputs": [
    {
     "name": "stdout",
     "output_type": "stream",
     "text": [
      "+-----+--------+\n",
      "|color|count(1)|\n",
      "+-----+--------+\n",
      "|  red|    1599|\n",
      "|white|    4898|\n",
      "+-----+--------+\n",
      "\n"
     ]
    }
   ],
   "source": [
    "df.sparkSession.sql(\"SELECT color, COUNT(*) FROM wines GROUP BY color;\").show()"
   ]
  },
  {
   "cell_type": "code",
   "execution_count": 17,
   "id": "7b93995c",
   "metadata": {},
   "outputs": [],
   "source": [
    "df_single_partition = df.coalesce(1)\n",
    "df_single_partition.write.mode(\"overwrite\").option(\"header\", \"true\").csv(\"./data/winequality-all.csv\")"
   ]
  }
 ],
 "metadata": {
  "kernelspec": {
   "display_name": "venv",
   "language": "python",
   "name": "python3"
  },
  "language_info": {
   "codemirror_mode": {
    "name": "ipython",
    "version": 3
   },
   "file_extension": ".py",
   "mimetype": "text/x-python",
   "name": "python",
   "nbconvert_exporter": "python",
   "pygments_lexer": "ipython3",
   "version": "3.11.9"
  }
 },
 "nbformat": 4,
 "nbformat_minor": 5
}
